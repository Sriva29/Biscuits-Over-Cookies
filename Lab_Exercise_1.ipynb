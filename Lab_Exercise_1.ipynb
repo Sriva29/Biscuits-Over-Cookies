{
  "cells": [
    {
      "cell_type": "markdown",
      "metadata": {
        "id": "view-in-github",
        "colab_type": "text"
      },
      "source": [
        "<a href=\"https://colab.research.google.com/github/Sriva29/Biscuits-Over-Cookies/blob/main/Lab_Exercise_1.ipynb\" target=\"_parent\"><img src=\"https://colab.research.google.com/assets/colab-badge.svg\" alt=\"Open In Colab\"/></a>"
      ]
    },
    {
      "cell_type": "markdown",
      "metadata": {
        "id": "RLi9AuUGcNf0"
      },
      "source": [
        "<p style=\"font-family: Arial; font-size:3em;color:black;\"> Lab Exercise 1 </p>"
      ]
    },
    {
      "cell_type": "code",
      "execution_count": 3,
      "metadata": {
        "id": "yjy87kVWcNf4"
      },
      "outputs": [],
      "source": [
        "# importing numpy\n",
        "import numpy as np"
      ]
    },
    {
      "cell_type": "code",
      "execution_count": 8,
      "metadata": {
        "colab": {
          "base_uri": "https://localhost:8080/"
        },
        "id": "xTRMVyHAcNf6",
        "outputId": "dae51a1c-c323-4d44-dcda-403c417c09f5"
      },
      "outputs": [
        {
          "output_type": "stream",
          "name": "stdout",
          "text": [
            "[1 2 3 5 0]\n",
            "Are all elements in array a non-zero? False\n"
          ]
        }
      ],
      "source": [
        "# Create a numpy array with the elements \"1, 2, 3, 5, 0\", print the array and test if all of its elements are non-zero.\n",
        "a = np.array([1,2,3,5,0])\n",
        "print (a)\n",
        "print (\"Are all elements in array a non-zero?\", a.all())"
      ]
    },
    {
      "cell_type": "code",
      "execution_count": null,
      "metadata": {
        "id": "MF-5BztecNf7"
      },
      "outputs": [],
      "source": [
        "# Create a numpy array with the elements \"3, -1, 3, 7, 2\", print the array and test if any of its elements is non-zero."
      ]
    },
    {
      "cell_type": "code",
      "source": [
        "b = np.array([3, -1, 3, 7, 2])\n",
        "print(b)\n",
        "print(\"Are any of the arrays in array b non-zero?\", b.any())"
      ],
      "metadata": {
        "colab": {
          "base_uri": "https://localhost:8080/"
        },
        "id": "TyzR_SP_dfqJ",
        "outputId": "2bb64356-e415-483e-ba59-d13d251a1174"
      },
      "execution_count": 9,
      "outputs": [
        {
          "output_type": "stream",
          "name": "stdout",
          "text": [
            "[ 3 -1  3  7  2]\n",
            "Are any of the arrays in array b non-zero? True\n"
          ]
        }
      ]
    },
    {
      "cell_type": "code",
      "execution_count": null,
      "metadata": {
        "id": "l4YaZRelcNf7"
      },
      "outputs": [],
      "source": [
        "# Create a numpy array with the elements \"0, 0, 0, 0\", print the array and test if any of its elements is non-zero."
      ]
    },
    {
      "cell_type": "code",
      "source": [
        "c = np.array([0, 0, 0, 0])\n",
        "print(c)\n",
        "print(\"are any of the arrays of array c non-zero?\", c.any())"
      ],
      "metadata": {
        "colab": {
          "base_uri": "https://localhost:8080/"
        },
        "id": "XAIpGBfUd8wu",
        "outputId": "188c5fac-3ef8-4ee5-9fea-3580871c3e03"
      },
      "execution_count": 10,
      "outputs": [
        {
          "output_type": "stream",
          "name": "stdout",
          "text": [
            "[0 0 0 0]\n",
            "are any of the arrays of array c non-zero? False\n"
          ]
        }
      ]
    },
    {
      "cell_type": "code",
      "execution_count": null,
      "metadata": {
        "id": "N_d0ry0NcNf8"
      },
      "outputs": [],
      "source": [
        "# Create a numpy array with the elements \"56, -2, 7\", print the array and the amount of memory required to store it."
      ]
    },
    {
      "cell_type": "code",
      "source": [
        "d = np.array([56, -2, 7])\n",
        "print(d)\n",
        "print(\"The amount of memory required to store array d is: \", d.itemsize*d.size)"
      ],
      "metadata": {
        "colab": {
          "base_uri": "https://localhost:8080/"
        },
        "id": "fBz8XGFFeRlI",
        "outputId": "728a5153-544a-41fc-c07b-007f6439b3df"
      },
      "execution_count": 12,
      "outputs": [
        {
          "output_type": "stream",
          "name": "stdout",
          "text": [
            "[56 -2  7]\n",
            "The amount of memory required to store array d is:  24\n"
          ]
        }
      ]
    },
    {
      "cell_type": "code",
      "execution_count": null,
      "metadata": {
        "id": "BzeFTdcqcNf9"
      },
      "outputs": [],
      "source": [
        "# Create a numpy array with 10 zeros and print the array.\n",
        "\n",
        "# Create a numpy array with 6 ones and print the array.\n",
        "\n",
        "# Create a numpy array with 12 '3's and print the array. [3 3 3 3 3 3 3 3 3 3 3 3]\n"
      ]
    },
    {
      "cell_type": "code",
      "source": [
        "e = np.zeros(10)\n",
        "print(e)\n",
        "f = np.ones(6)\n",
        "print(f)\n",
        "g = np.ones(12)*3\n",
        "print(g)"
      ],
      "metadata": {
        "colab": {
          "base_uri": "https://localhost:8080/"
        },
        "id": "RuMYHEqlfXd5",
        "outputId": "670fde05-0780-4471-83f1-8592369dd90e"
      },
      "execution_count": 16,
      "outputs": [
        {
          "output_type": "stream",
          "name": "stdout",
          "text": [
            "[0. 0. 0. 0. 0. 0. 0. 0. 0. 0.]\n",
            "[1. 1. 1. 1. 1. 1.]\n",
            "[3. 3. 3. 3. 3. 3. 3. 3. 3. 3. 3. 3.]\n"
          ]
        }
      ]
    },
    {
      "cell_type": "code",
      "execution_count": null,
      "metadata": {
        "id": "2HN0Wzv8cNf-"
      },
      "outputs": [],
      "source": [
        "# Create a numpy array of the integers from 8 to 20 and print the array. (make sure 20 itself is included) hint:  use \"arange\" method\n",
        "\n",
        "# Create a numpy array of the even integers from 8 to 20 and print the array. (make sure 20 itself is included)   hint:  use \"arange\" method\n"
      ]
    },
    {
      "cell_type": "code",
      "source": [
        "h = np.arange(8,21,1)\n",
        "print(\"a numpy array of the integers from 8 to 20: \",h)\n",
        "i = np.arange(8,21,2)\n",
        "print(\"a numpy array of the even integers from 8 to 20: \",i)"
      ],
      "metadata": {
        "colab": {
          "base_uri": "https://localhost:8080/"
        },
        "id": "fuIJ5jwwg-Qi",
        "outputId": "5bf66d8e-9c62-455c-bd8f-89a385aff4c2"
      },
      "execution_count": 20,
      "outputs": [
        {
          "output_type": "stream",
          "name": "stdout",
          "text": [
            "a numpy array of the integers from 8 to 20:  [ 8  9 10 11 12 13 14 15 16 17 18 19 20]\n",
            "a numpy array of the even integers from 8 to 20:  [ 8 10 12 14 16 18 20]\n"
          ]
        }
      ]
    },
    {
      "cell_type": "code",
      "execution_count": null,
      "metadata": {
        "id": "CxSjfRNacNf_"
      },
      "outputs": [],
      "source": [
        "# Create a numpy array consisting of 100 random elements from normal distribution with mean of 2 and std of 0.5. Print the mean, max, min and std of the array.\n",
        "\n",
        "# Create a numpy array consisting of 1000 random elements from normal distribution with mean of 2 and std of 0.5. Print the mean, max, min and std of the array.\n",
        "\n",
        "# Create a numpy array consisting of 1000000 random elements from normal distribution with mean of 2 and std of 0.5. Print the mean, max, min and std of the array.\n",
        "\n",
        "# (Bonus question) Looking at the three above examples with 1000, 5000, and 10000 random elements, do you have any observations about mean and std values?\n"
      ]
    },
    {
      "cell_type": "code",
      "source": [
        "j = np.random.normal(2,0.5,100)\n",
        "jmean = j.mean();\n",
        "jstd = j.std();\n",
        "jmax = j.max()\n",
        "jmin = j.min()\n",
        "print(f'The mean of j (100 random elements) is: {jmean}. The max of j is: {jmax}. The min of j is: {jmin}. The std of j array is: {jstd}')\n",
        "\n",
        "k = np.random.normal(2,0.5,1000)\n",
        "kmean = k.mean();\n",
        "kstd = k.std();\n",
        "kmax = k.max()\n",
        "kmin = k.min()\n",
        "print(f'The mean of k (1000 random elements) is: {kmean}. The max of k is: {kmax}. The min of k is: {kmin}. The std of k array is: {kstd}')\n",
        "\n",
        "l = np.random.normal(2,0.5,1000000)\n",
        "lmean = l.mean();\n",
        "lstd = l.std();\n",
        "lmax = l.max()\n",
        "lmin = l.min()\n",
        "print(f'The mean of l (1000000 random elements) is: {lmean}. The max of l is: {lmax}. The min of l is: {lmin}. The std of l array is: {lstd}')"
      ],
      "metadata": {
        "colab": {
          "base_uri": "https://localhost:8080/"
        },
        "id": "a9wl6b5AjJh3",
        "outputId": "f93e09a8-b96e-41ba-886a-547e1a5eaa03"
      },
      "execution_count": 24,
      "outputs": [
        {
          "output_type": "stream",
          "name": "stdout",
          "text": [
            "The mean of j (100 random elements) is: 1.911605738316226. The max of j is: 3.0836650351275434. The min of j is: 0.8580118741346041. The std of j array is: 0.47780483163838794\n",
            "The mean of k (1000 random elements) is: 1.9900173040668339. The max of k is: 4.069300201483303. The min of k is: 0.4431859883935232. The std of k array is: 0.4998781796625552\n",
            "The mean of l (1000000 random elements) is: 1.999464542844919. The max of l is: 4.354955661259375. The min of l is: -0.38511851521882967. The std of l array is: 0.5001316451045876\n"
          ]
        }
      ]
    },
    {
      "cell_type": "markdown",
      "source": [
        "The mean and the std appear to be very close to each other. There is an incremental increase in the mean an std, but it is very small."
      ],
      "metadata": {
        "id": "ghsuPmgAmqfd"
      }
    }
  ],
  "metadata": {
    "kernelspec": {
      "display_name": "Python 3 (ipykernel)",
      "language": "python",
      "name": "python3"
    },
    "language_info": {
      "codemirror_mode": {
        "name": "ipython",
        "version": 3
      },
      "file_extension": ".py",
      "mimetype": "text/x-python",
      "name": "python",
      "nbconvert_exporter": "python",
      "pygments_lexer": "ipython3",
      "version": "3.12.0"
    },
    "colab": {
      "provenance": [],
      "include_colab_link": true
    }
  },
  "nbformat": 4,
  "nbformat_minor": 0
}